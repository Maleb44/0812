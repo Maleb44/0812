{
 "cells": [
  {
   "cell_type": "code",
   "execution_count": null,
   "metadata": {
    "collapsed": true
   },
   "outputs": [],
   "source": [
    "import json\n",
    "\n",
    "\n",
    "out_f = open ('data_t6.csv','w') \n",
    "\n",
    "\n",
    "import json\n",
    "#import readline\n",
    "cnt =0\n",
    "with open('data.json') as data_file:    \n",
    "    data = json.load(data_file)   \n",
    "    print str(len(data))\n",
    "    print type(data)\n",
    " #   el  = data[0]\n",
    " #   print el\n",
    "    \n",
    "    for elem in range (len(data)):\n",
    "        if data[elem]['creditcard'] != None:\n",
    "         #   print  data[elem]['name'] +',' + data[elem]['creditcard']\n",
    "            print >> out_f, (data[elem]['name'] +',' + data[elem]['creditcard'])\n",
    "            cnt +=1\n",
    "print \"hitelkartyak szama:\" + str(cnt)            \n",
    "out_f.close ()\n",
    "data_file.close()\n"
   ]
  },
  {
   "cell_type": "code",
   "execution_count": null,
   "metadata": {
    "collapsed": true
   },
   "outputs": [],
   "source": []
  }
 ],
 "metadata": {
  "celltoolbar": "Edit Metadata",
  "kernelspec": {
   "display_name": "Python 2",
   "language": "python",
   "name": "python2"
  },
  "language_info": {
   "codemirror_mode": {
    "name": "ipython",
    "version": 2
   },
   "file_extension": ".py",
   "mimetype": "text/x-python",
   "name": "python",
   "nbconvert_exporter": "python",
   "pygments_lexer": "ipython2",
   "version": "2.7.10"
  }
 },
 "nbformat": 4,
 "nbformat_minor": 0
}
